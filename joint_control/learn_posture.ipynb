{
 "cells": [
  {
   "cell_type": "markdown",
   "metadata": {},
   "source": [
    "# Learn Posture"
   ]
  },
  {
   "cell_type": "markdown",
   "metadata": {},
   "source": [
    "use machine learning to recognize robot's posture (following the example in [scikit-learn-intro.ipynb](./scikit-learn-intro.ipynb) )"
   ]
  },
  {
   "cell_type": "markdown",
   "metadata": {},
   "source": [
    "## 1. Data collection\n",
    "\n",
    "We have colleceted data before, you need to add new data if you want to add new posture.\n",
    "\n",
    "* the dateset are in *robot_pose_data* folder\n",
    "* each file contains the data belongs to this posture, e.g. the data in *Back* file are collected when robot was in \"Back\" posture\n",
    "* the data file can be load by ```pickle```, e.g. ```pickle.load(open('Back'))```, the data is a list of feature data\n",
    "* the features (e.g. each row of the data) are ['LHipYawPitch', 'LHipRoll', 'LHipPitch', 'LKneePitch', 'RHipYawPitch', 'RHipRoll', 'RHipPitch', 'RKneePitch', 'AngleX', 'AngleY'], where 'AngleX' and 'AngleY' are body angle (e.g. ```Perception.imu```) and others are joint angles."
   ]
  },
  {
   "cell_type": "markdown",
   "metadata": {},
   "source": [
    "## 2. Data preprocessing"
   ]
  },
  {
   "cell_type": "code",
   "execution_count": 3,
   "metadata": {},
   "outputs": [
    {
     "name": "stdout",
     "output_type": "stream",
     "text": [
      "Populating the interactive namespace from numpy and matplotlib\n"
     ]
    }
   ],
   "source": [
    "%pylab inline\n",
    "import pickle\n",
    "from os import listdir, path\n",
    "import numpy as np\n",
    "from sklearn import svm, metrics\n",
    "\n",
    "ROBOT_POSE_DATA_DIR = 'robot_pose_data'\n",
    "#print(ROBOT_POSE_DATA_DIR)"
   ]
  },
  {
   "cell_type": "code",
   "execution_count": 4,
   "metadata": {},
   "outputs": [
    {
     "name": "stdout",
     "output_type": "stream",
     "text": [
      "['Crouch', 'Belly', 'Knee', 'Frog', 'HeadBack', 'Back', 'Left', 'StandInit', 'Stand', 'Right', 'Sit']\n"
     ]
    }
   ],
   "source": [
    "classes = listdir(ROBOT_POSE_DATA_DIR) #listdir schreibt alle file namen von dem path auf, path ist robot_pose_data\n",
    "print(classes)"
   ]
  },
  {
   "cell_type": "code",
   "execution_count": 98,
   "metadata": {},
   "outputs": [],
   "source": [
    "def load_pose_data(i):\n",
    "    '''load pose data from file'''\n",
    "    data = []\n",
    "    target = []\n",
    "    # YOUR CODE HERE ---hier wird schon data reingelesen??\n",
    "    #pickle.load benötigt als argument eine Datei\n",
    "    #hatte mit wb statt rb die Knee Datei gelöscht (lokal) konnte sie mit git checkout --robot_pose_data/Knee wiederherstellen\n",
    "    \n",
    "    filename = path.join(ROBOT_POSE_DATA_DIR, classes[i])\n",
    "    #print(filename)\n",
    "    #filename = classes[i]\n",
    "    #data = pickle.load(open(filename))\n",
    "    data = pickle.load(open(filename,'rb'))\n",
    "    target = [i] * len(data) #target sind quasi die label als integer, die postures, die werte in data sind die\n",
    "    # angles der joints, gehören alle zu der Pose 'Knee' hier als [2] definiert\n",
    "    \n",
    "    return data, target\n",
    "#print(target)\n",
    "#load_pose_data(2)"
   ]
  },
  {
   "cell_type": "code",
   "execution_count": 99,
   "metadata": {},
   "outputs": [
    {
     "name": "stdout",
     "output_type": "stream",
     "text": [
      "total number of data 222\n"
     ]
    }
   ],
   "source": [
    "# load all the data\n",
    "all_data = []\n",
    "all_target = []\n",
    "# YOUR CODE HERE\n",
    "\n",
    "for i in range(11):\n",
    "    #all_data.append(load_pose_data(i)[0]) #die 0 nimmt nur den 1. return wert\n",
    "    #all_target.append(load_pose_data(i)[1]) # append erzeugt array in array\n",
    "    all_data += load_pose_data(i)[0]\n",
    "    all_target += load_pose_data(i)[1]\n",
    "\n",
    "print('total number of data', len(all_data))\n",
    "#print(all_data)\n",
    "#print(all_target)"
   ]
  },
  {
   "cell_type": "code",
   "execution_count": 100,
   "metadata": {},
   "outputs": [],
   "source": [
    "# shuffule data\n",
    "permutation = np.random.permutation(len(all_data))\n",
    "n_training_data = int(len(all_data) * 0.7)\n",
    "training_data = permutation[:n_training_data]\n",
    "#print(permutation)\n",
    "#print(n_training_data)\n",
    "#print(training_data)"
   ]
  },
  {
   "cell_type": "markdown",
   "metadata": {},
   "source": [
    "## 3. Learn on training data\n",
    "\n",
    "In scikit-learn, an estimator for classification is a Python object that implements the methods fit(X, y) and predict(T). An example of an estimator is the class sklearn.svm.SVC that implements support vector classification."
   ]
  },
  {
   "cell_type": "code",
   "execution_count": 101,
   "metadata": {},
   "outputs": [],
   "source": [
    "clf = svm.SVC(gamma=0.001, C=100.)"
   ]
  },
  {
   "cell_type": "markdown",
   "metadata": {},
   "source": [
    "### learning"
   ]
  },
  {
   "cell_type": "code",
   "execution_count": 102,
   "metadata": {},
   "outputs": [
    {
     "data": {
      "text/plain": [
       "SVC(C=100.0, gamma=0.001)"
      ]
     },
     "execution_count": 102,
     "metadata": {},
     "output_type": "execute_result"
    }
   ],
   "source": [
    "# YOUR CODE HERE\n",
    "#clf.fit(digits.data[:-500], digits.target[:-500]) \n",
    "\n",
    "all_data=np.array(all_data)\n",
    "all_target=np.array(all_target)\n",
    "tr_data = np.array(training_data)\n",
    "\n",
    "#print(type(tr_data))\n",
    "#print(type(tr_data[1]))\n",
    "\n",
    "clf.fit(all_data[tr_data],all_target[tr_data]) #für indexing muss das index array ein np.array sein\n",
    "# und auch das 'äußere array'\n",
    "\n",
    "#print(all_data[tr_data)\n",
    "#print(tr_data)\n",
    "#print(all_data[-1])"
   ]
  },
  {
   "cell_type": "markdown",
   "metadata": {},
   "source": [
    "### predicting"
   ]
  },
  {
   "cell_type": "code",
   "execution_count": 103,
   "metadata": {
    "scrolled": true
   },
   "outputs": [
    {
     "data": {
      "text/plain": [
       "(array([10]), 10)"
      ]
     },
     "execution_count": 103,
     "metadata": {},
     "output_type": "execute_result"
    }
   ],
   "source": [
    "#print(all_data)\n",
    "#all_data2 = all_data[:,np.newaxis]\n",
    "#for i in range(len(all_data)):\n",
    "    #all_data[i]=all_data[i][:,np.newaxis]\n",
    "#print(shape(all_data2))\n",
    "#print(shape(all_data2[1]))\n",
    "#all_data.reshape(1,-1)\n",
    "#print(all_data)\n",
    "#print(all_data[-1])\n",
    "clf.predict([all_data[-1]]), all_target[-1]"
   ]
  },
  {
   "cell_type": "code",
   "execution_count": 104,
   "metadata": {},
   "outputs": [],
   "source": [
    "def evaluate(expected, predicted):\n",
    "    print(\"Classification report:\\n%s\\n\" % metrics.classification_report(expected, predicted))\n",
    "\n",
    "    print(\"Confusion matrix:\\n%s\" % metrics.confusion_matrix(expected, predicted))"
   ]
  },
  {
   "cell_type": "code",
   "execution_count": 105,
   "metadata": {},
   "outputs": [
    {
     "name": "stdout",
     "output_type": "stream",
     "text": [
      "Classification report:\n",
      "              precision    recall  f1-score   support\n",
      "\n",
      "           0       1.00      1.00      1.00        11\n",
      "           1       1.00      1.00      1.00         6\n",
      "           2       1.00      1.00      1.00         1\n",
      "           4       1.00      1.00      1.00         5\n",
      "           5       1.00      1.00      1.00         7\n",
      "           6       1.00      1.00      1.00         6\n",
      "           7       1.00      1.00      1.00        18\n",
      "           8       1.00      1.00      1.00         2\n",
      "           9       1.00      1.00      1.00         3\n",
      "          10       1.00      1.00      1.00         8\n",
      "\n",
      "    accuracy                           1.00        67\n",
      "   macro avg       1.00      1.00      1.00        67\n",
      "weighted avg       1.00      1.00      1.00        67\n",
      "\n",
      "\n",
      "Confusion matrix:\n",
      "[[11  0  0  0  0  0  0  0  0  0]\n",
      " [ 0  6  0  0  0  0  0  0  0  0]\n",
      " [ 0  0  1  0  0  0  0  0  0  0]\n",
      " [ 0  0  0  5  0  0  0  0  0  0]\n",
      " [ 0  0  0  0  7  0  0  0  0  0]\n",
      " [ 0  0  0  0  0  6  0  0  0  0]\n",
      " [ 0  0  0  0  0  0 18  0  0  0]\n",
      " [ 0  0  0  0  0  0  0  2  0  0]\n",
      " [ 0  0  0  0  0  0  0  0  3  0]\n",
      " [ 0  0  0  0  0  0  0  0  0  8]]\n"
     ]
    }
   ],
   "source": [
    "expected = []\n",
    "predicted = []\n",
    "# YOUR CODE HERE\n",
    "index_test = permutation[n_training_data:]\n",
    "pred_test = clf.predict(all_data[index_test])\n",
    "target_test = all_target[index_test]\n",
    "\n",
    "#print(index_test)\n",
    "expected.extend(target_test)\n",
    "predicted.extend(pred_test)\n",
    "\n",
    "#print(expected)\n",
    "#print(predicted)\n",
    "\n",
    "\n",
    "evaluate(expected, predicted)"
   ]
  },
  {
   "cell_type": "markdown",
   "metadata": {},
   "source": [
    "## 4. Evaluate on the test data"
   ]
  },
  {
   "cell_type": "code",
   "execution_count": 106,
   "metadata": {},
   "outputs": [
    {
     "name": "stdout",
     "output_type": "stream",
     "text": [
      "Classification report:\n",
      "              precision    recall  f1-score   support\n",
      "\n",
      "           0       1.00      1.00      1.00        11\n",
      "           1       1.00      1.00      1.00         6\n",
      "           2       1.00      1.00      1.00         1\n",
      "           4       1.00      1.00      1.00         5\n",
      "           5       1.00      1.00      1.00         7\n",
      "           6       1.00      1.00      1.00         6\n",
      "           7       1.00      1.00      1.00        18\n",
      "           8       1.00      1.00      1.00         2\n",
      "           9       1.00      1.00      1.00         3\n",
      "          10       1.00      1.00      1.00         8\n",
      "\n",
      "    accuracy                           1.00        67\n",
      "   macro avg       1.00      1.00      1.00        67\n",
      "weighted avg       1.00      1.00      1.00        67\n",
      "\n",
      "\n",
      "Confusion matrix:\n",
      "[[11  0  0  0  0  0  0  0  0  0]\n",
      " [ 0  6  0  0  0  0  0  0  0  0]\n",
      " [ 0  0  1  0  0  0  0  0  0  0]\n",
      " [ 0  0  0  5  0  0  0  0  0  0]\n",
      " [ 0  0  0  0  7  0  0  0  0  0]\n",
      " [ 0  0  0  0  0  6  0  0  0  0]\n",
      " [ 0  0  0  0  0  0 18  0  0  0]\n",
      " [ 0  0  0  0  0  0  0  2  0  0]\n",
      " [ 0  0  0  0  0  0  0  0  3  0]\n",
      " [ 0  0  0  0  0  0  0  0  0  8]]\n"
     ]
    }
   ],
   "source": [
    "expected = []\n",
    "predicted = []\n",
    "# YOUR CODE HERE\n",
    "\n",
    "index_test = permutation[n_training_data:]\n",
    "pred_test = clf.predict(all_data[index_test])\n",
    "target_test = all_target[index_test]\n",
    "\n",
    "#print(index_test)\n",
    "expected.extend(target_test)\n",
    "predicted.extend(pred_test)\n",
    "\n",
    "#print(expected)\n",
    "#print(predicted)\n",
    "\n",
    "evaluate(expected, predicted)"
   ]
  },
  {
   "cell_type": "markdown",
   "metadata": {},
   "source": [
    "## 5. Deploy to the real system\n",
    "\n",
    "We can simple use `pickle` module to serialize the trained classifier."
   ]
  },
  {
   "cell_type": "code",
   "execution_count": 107,
   "metadata": {},
   "outputs": [],
   "source": [
    "import pickle\n",
    "ROBOT_POSE_CLF = 'robot_pose.pkl'\n",
    "pickle.dump(clf, open(ROBOT_POSE_CLF, 'wb')) #hier muss 'wb' stehen statt nur 'w' , b für binary"
   ]
  },
  {
   "cell_type": "markdown",
   "metadata": {},
   "source": [
    "Then, in the application we can load the trained classifier again."
   ]
  },
  {
   "cell_type": "code",
   "execution_count": 108,
   "metadata": {},
   "outputs": [
    {
     "data": {
      "text/plain": [
       "(array([10]), 10)"
      ]
     },
     "execution_count": 108,
     "metadata": {},
     "output_type": "execute_result"
    }
   ],
   "source": [
    "clf2 = pickle.load(open(ROBOT_POSE_CLF,'rb')) #hier 'rb' statt gar nichts\n",
    "clf2.predict([all_data[-1]]), all_target[-1] # hier wieder eckige klammern um all_data[-1] da es liste von arrays sein muss und nicht nur ein element"
   ]
  },
  {
   "cell_type": "code",
   "execution_count": null,
   "metadata": {
    "collapsed": true
   },
   "outputs": [],
   "source": []
  }
 ],
 "metadata": {
  "kernelspec": {
   "display_name": "Python 3",
   "language": "python",
   "name": "python3"
  },
  "language_info": {
   "codemirror_mode": {
    "name": "ipython",
    "version": 3
   },
   "file_extension": ".py",
   "mimetype": "text/x-python",
   "name": "python",
   "nbconvert_exporter": "python",
   "pygments_lexer": "ipython3",
   "version": "3.8.5"
  },
  "widgets": {
   "state": {},
   "version": "1.0.0"
  }
 },
 "nbformat": 4,
 "nbformat_minor": 1
}
