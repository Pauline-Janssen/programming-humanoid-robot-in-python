{
 "cells": [
  {
   "cell_type": "markdown",
   "metadata": {},
   "source": [
    "# Learn Posture"
   ]
  },
  {
   "cell_type": "markdown",
   "metadata": {},
   "source": [
    "use machine learning to recognize robot's posture (following the example in [scikit-learn-intro.ipynb](./scikit-learn-intro.ipynb) )"
   ]
  },
  {
   "cell_type": "markdown",
   "metadata": {},
   "source": [
    "## 1. Data collection\n",
    "\n",
    "We have colleceted data before, you need to add new data if you want to add new posture.\n",
    "\n",
    "* the dateset are in *robot_pose_data* folder\n",
    "* each file contains the data belongs to this posture, e.g. the data in *Back* file are collected when robot was in \"Back\" posture\n",
    "* the data file can be load by ```pickle```, e.g. ```pickle.load(open('Back'))```, the data is a list of feature data\n",
    "* the features (e.g. each row of the data) are ['LHipYawPitch', 'LHipRoll', 'LHipPitch', 'LKneePitch', 'RHipYawPitch', 'RHipRoll', 'RHipPitch', 'RKneePitch', 'AngleX', 'AngleY'], where 'AngleX' and 'AngleY' are body angle (e.g. ```Perception.imu```) and others are joint angles."
   ]
  },
  {
   "cell_type": "markdown",
   "metadata": {},
   "source": [
    "## 2. Data preprocessing"
   ]
  },
  {
   "cell_type": "code",
   "execution_count": 3,
   "metadata": {},
   "outputs": [
    {
     "name": "stdout",
     "output_type": "stream",
     "text": [
      "Populating the interactive namespace from numpy and matplotlib\n"
     ]
    }
   ],
   "source": [
    "%pylab inline\n",
    "import pickle\n",
    "from os import listdir, path\n",
    "import numpy as np\n",
    "from sklearn import svm, metrics\n",
    "\n",
    "ROBOT_POSE_DATA_DIR = 'robot_pose_data'\n",
    "#print(ROBOT_POSE_DATA_DIR)"
   ]
  },
  {
   "cell_type": "code",
   "execution_count": 4,
   "metadata": {},
   "outputs": [
    {
     "name": "stdout",
     "output_type": "stream",
     "text": [
      "['Crouch', 'Belly', 'Knee', 'Frog', 'HeadBack', 'Back', 'Left', 'StandInit', 'Stand', 'Right', 'Sit']\n"
     ]
    }
   ],
   "source": [
    "classes = listdir(ROBOT_POSE_DATA_DIR) #listdir schreibt alle file namen von dem path auf, path ist robot_pose_data\n",
    "print(classes)"
   ]
  },
  {
   "cell_type": "code",
   "execution_count": 5,
   "metadata": {},
   "outputs": [
    {
     "name": "stdout",
     "output_type": "stream",
     "text": [
      "robot_pose_data/Knee\n"
     ]
    },
    {
     "data": {
      "text/plain": [
       "([[0.3037738800048828,\n",
       "   0.015382050536572933,\n",
       "   0.42035794258117676,\n",
       "   1.9818861484527588,\n",
       "   0.3037738800048828,\n",
       "   -0.01683211326599121,\n",
       "   0.5199840068817139,\n",
       "   1.7119860649108887,\n",
       "   0.0,\n",
       "   -0.08726692199707031],\n",
       "  [0.3037738800048828,\n",
       "   0.015382050536572933,\n",
       "   0.42035794258117676,\n",
       "   1.9818861484527588,\n",
       "   0.3037738800048828,\n",
       "   -0.01683211326599121,\n",
       "   0.5199840068817139,\n",
       "   1.7119860649108887,\n",
       "   0.0,\n",
       "   -0.08726692199707031],\n",
       "  [0.3037738800048828,\n",
       "   0.013848066329956055,\n",
       "   0.42035794258117676,\n",
       "   1.9818861484527588,\n",
       "   0.3037738800048828,\n",
       "   -0.01683211326599121,\n",
       "   0.5199840068817139,\n",
       "   1.7119860649108887,\n",
       "   0.0,\n",
       "   -0.08726692199707031],\n",
       "  [0.3037738800048828,\n",
       "   0.015382050536572933,\n",
       "   0.42035794258117676,\n",
       "   1.9818861484527588,\n",
       "   0.3037738800048828,\n",
       "   -0.01683211326599121,\n",
       "   0.5199840068817139,\n",
       "   1.7119860649108887,\n",
       "   0.0,\n",
       "   -0.08726692199707031],\n",
       "  [0.3037738800048828,\n",
       "   0.015382050536572933,\n",
       "   0.42035794258117676,\n",
       "   1.9818861484527588,\n",
       "   0.3037738800048828,\n",
       "   -0.01683211326599121,\n",
       "   0.5199840068817139,\n",
       "   1.7119860649108887,\n",
       "   0.0,\n",
       "   -0.08726692199707031],\n",
       "  [0.3037738800048828,\n",
       "   0.015382050536572933,\n",
       "   0.42035794258117676,\n",
       "   1.9818861484527588,\n",
       "   0.3037738800048828,\n",
       "   -0.01683211326599121,\n",
       "   0.5199840068817139,\n",
       "   1.7119860649108887,\n",
       "   0.0,\n",
       "   -0.08726692199707031],\n",
       "  [0.3037738800048828,\n",
       "   0.015382050536572933,\n",
       "   0.42035794258117676,\n",
       "   1.9818861484527588,\n",
       "   0.3037738800048828,\n",
       "   -0.01683211326599121,\n",
       "   0.5199840068817139,\n",
       "   1.7119860649108887,\n",
       "   0.0,\n",
       "   -0.08726692199707031],\n",
       "  [0.3037738800048828,\n",
       "   0.015382050536572933,\n",
       "   0.42035794258117676,\n",
       "   1.9818861484527588,\n",
       "   0.3037738800048828,\n",
       "   -0.01683211326599121,\n",
       "   0.5199840068817139,\n",
       "   1.7119860649108887,\n",
       "   0.0,\n",
       "   -0.08726692199707031],\n",
       "  [0.3037738800048828,\n",
       "   0.015382050536572933,\n",
       "   0.42035794258117676,\n",
       "   1.9818861484527588,\n",
       "   0.3037738800048828,\n",
       "   -0.01683211326599121,\n",
       "   0.5199840068817139,\n",
       "   1.7119860649108887,\n",
       "   0.0,\n",
       "   -0.08726692199707031],\n",
       "  [0.3037738800048828,\n",
       "   0.015382050536572933,\n",
       "   0.42035794258117676,\n",
       "   1.9818861484527588,\n",
       "   0.3037738800048828,\n",
       "   -0.01683211326599121,\n",
       "   0.5199840068817139,\n",
       "   1.7119860649108887,\n",
       "   0.0,\n",
       "   -0.08726692199707031]],\n",
       " [2, 2, 2, 2, 2, 2, 2, 2, 2, 2])"
      ]
     },
     "execution_count": 5,
     "metadata": {},
     "output_type": "execute_result"
    }
   ],
   "source": [
    "def load_pose_data(i):\n",
    "    '''load pose data from file'''\n",
    "    data = []\n",
    "    target = []\n",
    "    # YOUR CODE HERE ---hier wird schon data reingelesen??\n",
    "    #pickle.load benötigt als argument eine Datei\n",
    "    #hatte mit wb statt rb die Knee Datei gelöscht (lokal) konnte sie mit git checkout --robot_pose_data/Knee wiederherstellen\n",
    "    \n",
    "    filename = path.join(ROBOT_POSE_DATA_DIR, classes[i])\n",
    "    print(filename)\n",
    "    #filename = classes[i]\n",
    "    #data = pickle.load(open(filename))\n",
    "    data = pickle.load(open(filename,'rb'))\n",
    "    target = [i] * len(data) #target sind quasi die label als integer, die postures, die werte in data sind die\n",
    "    # angles der joints, gehören alle zu der Pose 'Knee' hier als [2] definiert\n",
    "    \n",
    "    return data, target\n",
    "#print(target)\n",
    "load_pose_data(2)"
   ]
  },
  {
   "cell_type": "code",
   "execution_count": 57,
   "metadata": {},
   "outputs": [
    {
     "name": "stdout",
     "output_type": "stream",
     "text": [
      "robot_pose_data/Crouch\n",
      "robot_pose_data/Crouch\n",
      "robot_pose_data/Belly\n",
      "robot_pose_data/Belly\n",
      "robot_pose_data/Knee\n",
      "robot_pose_data/Knee\n",
      "robot_pose_data/Frog\n",
      "robot_pose_data/Frog\n",
      "robot_pose_data/HeadBack\n",
      "robot_pose_data/HeadBack\n",
      "robot_pose_data/Back\n",
      "robot_pose_data/Back\n",
      "robot_pose_data/Left\n",
      "robot_pose_data/Left\n",
      "robot_pose_data/StandInit\n",
      "robot_pose_data/StandInit\n",
      "robot_pose_data/Stand\n",
      "robot_pose_data/Stand\n",
      "robot_pose_data/Right\n",
      "robot_pose_data/Right\n",
      "robot_pose_data/Sit\n",
      "robot_pose_data/Sit\n",
      "total number of data 222\n",
      "[0, 0, 0, 0, 0, 0, 0, 0, 0, 0, 0, 0, 0, 0, 0, 0, 0, 0, 0, 0, 0, 0, 0, 0, 0, 0, 0, 0, 0, 0, 1, 1, 1, 1, 1, 1, 1, 1, 1, 1, 1, 1, 1, 1, 1, 1, 1, 1, 1, 2, 2, 2, 2, 2, 2, 2, 2, 2, 2, 3, 3, 3, 3, 3, 3, 3, 3, 3, 3, 4, 4, 4, 4, 4, 4, 4, 4, 4, 4, 5, 5, 5, 5, 5, 5, 5, 5, 5, 5, 5, 5, 5, 5, 5, 5, 5, 5, 5, 5, 5, 5, 5, 6, 6, 6, 6, 6, 6, 6, 6, 6, 6, 6, 6, 6, 6, 6, 6, 6, 6, 6, 6, 7, 7, 7, 7, 7, 7, 7, 7, 7, 7, 7, 7, 7, 7, 7, 7, 7, 7, 7, 7, 7, 7, 7, 7, 7, 7, 7, 7, 7, 7, 7, 7, 7, 7, 7, 7, 7, 7, 7, 7, 7, 7, 7, 7, 7, 7, 7, 7, 7, 7, 7, 7, 8, 8, 8, 8, 8, 8, 8, 8, 8, 8, 8, 9, 9, 9, 9, 9, 9, 9, 9, 9, 9, 9, 10, 10, 10, 10, 10, 10, 10, 10, 10, 10, 10, 10, 10, 10, 10, 10, 10, 10, 10, 10, 10, 10, 10, 10, 10, 10]\n"
     ]
    }
   ],
   "source": [
    "# load all the data\n",
    "all_data = []\n",
    "all_target = []\n",
    "# YOUR CODE HERE\n",
    "\n",
    "for i in range(11):\n",
    "    #all_data.append(load_pose_data(i)[0]) #die 0 nimmt nur den 1. return wert\n",
    "    #all_target.append(load_pose_data(i)[1]) # append erzeugt array in array\n",
    "    all_data += load_pose_data(i)[0]\n",
    "    all_target += load_pose_data(i)[1]\n",
    "\n",
    "print('total number of data', len(all_data))\n",
    "#print(all_data)\n",
    "print(all_target)"
   ]
  },
  {
   "cell_type": "code",
   "execution_count": 58,
   "metadata": {},
   "outputs": [
    {
     "name": "stdout",
     "output_type": "stream",
     "text": [
      "[ 97 120  27 161  93  57 127 191  25  48 194  26  31 158  19 155  33 182\n",
      " 140  63 136 165  39 119  37  36 132 160   6 121 134  86  28 190 110 175\n",
      " 173  56  42  91 123 107   1 183 150 153 196 211  52   2   7 144 146 148\n",
      " 174  88  12 217 193  50 139 147 212 118 115 209 178 106 104  89 198  43\n",
      " 210 201  59 133  17 203 102  44 208  95  53  85 116 112  24  34 137 181\n",
      " 202 156 177 122 162 108  55 197   0 168  61  11 179 124  71 142 188  84\n",
      " 114  10  60 163  40 218   9 138 143  80  82  73  46  21  72 170  47  83\n",
      " 207  23 220  81  68   5  54 154  76  62  99  51 215  77  65  22 185 130\n",
      " 125  94  41  35 189  98 126 111 164  32  18  20 145  45 113  69 205 100\n",
      " 221 109  74   8 135 159  30 105 131 171  67  64 167 117  66 199  75 149\n",
      " 166 176  15  49  79 204  92   4 206 151   3 216  70 184  78  29 157 192\n",
      " 200 214 180 195 169  38  58 141 152  87 101 187 128  14  13 172 103 129\n",
      "  16 219  90  96 186 213]\n",
      "155\n",
      "[ 97 120  27 161  93  57 127 191  25  48 194  26  31 158  19 155  33 182\n",
      " 140  63 136 165  39 119  37  36 132 160   6 121 134  86  28 190 110 175\n",
      " 173  56  42  91 123 107   1 183 150 153 196 211  52   2   7 144 146 148\n",
      " 174  88  12 217 193  50 139 147 212 118 115 209 178 106 104  89 198  43\n",
      " 210 201  59 133  17 203 102  44 208  95  53  85 116 112  24  34 137 181\n",
      " 202 156 177 122 162 108  55 197   0 168  61  11 179 124  71 142 188  84\n",
      " 114  10  60 163  40 218   9 138 143  80  82  73  46  21  72 170  47  83\n",
      " 207  23 220  81  68   5  54 154  76  62  99  51 215  77  65  22 185 130\n",
      " 125  94  41  35 189  98 126 111 164  32  18]\n"
     ]
    }
   ],
   "source": [
    "# shuffule data\n",
    "permutation = np.random.permutation(len(all_data))\n",
    "n_training_data = int(len(all_data) * 0.7)\n",
    "training_data = permutation[:n_training_data]\n",
    "#print(permutation)\n",
    "print(n_training_data)\n",
    "print(training_data)"
   ]
  },
  {
   "cell_type": "markdown",
   "metadata": {},
   "source": [
    "## 3. Learn on training data\n",
    "\n",
    "In scikit-learn, an estimator for classification is a Python object that implements the methods fit(X, y) and predict(T). An example of an estimator is the class sklearn.svm.SVC that implements support vector classification."
   ]
  },
  {
   "cell_type": "code",
   "execution_count": 59,
   "metadata": {},
   "outputs": [],
   "source": [
    "clf = svm.SVC(gamma=0.001, C=100.)"
   ]
  },
  {
   "cell_type": "markdown",
   "metadata": {},
   "source": [
    "### learning"
   ]
  },
  {
   "cell_type": "code",
   "execution_count": 60,
   "metadata": {},
   "outputs": [
    {
     "name": "stdout",
     "output_type": "stream",
     "text": [
      "<class 'numpy.ndarray'>\n",
      "<class 'numpy.int64'>\n",
      "[ 97 120  27 161  93  57 127 191  25  48 194  26  31 158  19 155  33 182\n",
      " 140  63 136 165  39 119  37  36 132 160   6 121 134  86  28 190 110 175\n",
      " 173  56  42  91 123 107   1 183 150 153 196 211  52   2   7 144 146 148\n",
      " 174  88  12 217 193  50 139 147 212 118 115 209 178 106 104  89 198  43\n",
      " 210 201  59 133  17 203 102  44 208  95  53  85 116 112  24  34 137 181\n",
      " 202 156 177 122 162 108  55 197   0 168  61  11 179 124  71 142 188  84\n",
      " 114  10  60 163  40 218   9 138 143  80  82  73  46  21  72 170  47  83\n",
      " 207  23 220  81  68   5  54 154  76  62  99  51 215  77  65  22 185 130\n",
      " 125  94  41  35 189  98 126 111 164  32  18]\n",
      "[-0.31289411 -0.23005795 -1.67048407  0.96637797 -0.31289411  0.03532386\n",
      " -1.62280262  0.82993603  0.02531069 -0.16758746]\n"
     ]
    }
   ],
   "source": [
    "# YOUR CODE HERE\n",
    "#clf.fit(digits.data[:-500], digits.target[:-500]) \n",
    "\n",
    "all_data=np.array(all_data)\n",
    "all_target=np.array(all_target)\n",
    "tr_data = np.array(training_data)\n",
    "\n",
    "print(type(tr_data))\n",
    "print(type(tr_data[1]))\n",
    "\n",
    "clf.fit(all_data[tr_data],all_target[tr_data]) #für indexing muss das index array ein np.array sein\n",
    "# und auch das 'äußere array'\n",
    "\n",
    "#print(all_data[tr_data)\n",
    "print(tr_data)\n",
    "print(all_data[-1])"
   ]
  },
  {
   "cell_type": "markdown",
   "metadata": {},
   "source": [
    "### predicting"
   ]
  },
  {
   "cell_type": "code",
   "execution_count": 72,
   "metadata": {
    "scrolled": true
   },
   "outputs": [
    {
     "name": "stdout",
     "output_type": "stream",
     "text": [
      "[-0.31289411 -0.23005795 -1.67048407  0.96637797 -0.31289411  0.03532386\n",
      " -1.62280262  0.82993603  0.02531069 -0.16758746]\n"
     ]
    },
    {
     "data": {
      "text/plain": [
       "(array([10]), 10)"
      ]
     },
     "execution_count": 72,
     "metadata": {},
     "output_type": "execute_result"
    }
   ],
   "source": [
    "#print(all_data)\n",
    "#all_data2 = all_data[:,np.newaxis]\n",
    "#for i in range(len(all_data)):\n",
    "    #all_data[i]=all_data[i][:,np.newaxis]\n",
    "#print(shape(all_data2))\n",
    "#print(shape(all_data2[1]))\n",
    "#all_data.reshape(1,-1)\n",
    "#print(all_data)\n",
    "print(all_data[-1])\n",
    "clf.predict([all_data[-1]]), all_target[-1]"
   ]
  },
  {
   "cell_type": "code",
   "execution_count": 73,
   "metadata": {},
   "outputs": [],
   "source": [
    "def evaluate(expected, predicted):\n",
    "    print(\"Classification report:\\n%s\\n\" % metrics.classification_report(expected, predicted))\n",
    "\n",
    "    print(\"Confusion matrix:\\n%s\" % metrics.confusion_matrix(expected, predicted))"
   ]
  },
  {
   "cell_type": "code",
   "execution_count": 82,
   "metadata": {},
   "outputs": [
    {
     "name": "stdout",
     "output_type": "stream",
     "text": [
      "[ 20 145  45 113  69 205 100 221 109  74   8 135 159  30 105 131 171  67\n",
      "  64 167 117  66 199  75 149 166 176  15  49  79 204  92   4 206 151   3\n",
      " 216  70 184  78  29 157 192 200 214 180 195 169  38  58 141 152  87 101\n",
      " 187 128  14  13 172 103 129  16 219  90  96 186 213]\n",
      "[0, 7, 1, 6, 4, 10, 5, 10, 6, 4, 0, 7, 7, 1, 6, 7, 7, 3, 3, 7, 6, 3, 10, 4, 7, 7, 8, 0, 2, 5, 10, 5, 0, 10, 7, 0, 10, 4, 8, 4, 0, 7, 9, 10, 10, 8, 9, 7, 1, 2, 7, 7, 5, 5, 9, 7, 0, 0, 7, 6, 7, 0, 10, 5, 5, 9, 10]\n",
      "[0, 7, 1, 6, 4, 10, 5, 10, 6, 4, 0, 7, 7, 1, 6, 7, 7, 3, 3, 7, 6, 3, 10, 4, 7, 7, 8, 0, 2, 5, 10, 5, 0, 10, 7, 0, 10, 4, 8, 4, 0, 7, 9, 10, 10, 8, 0, 7, 1, 2, 7, 7, 5, 5, 9, 7, 0, 0, 7, 6, 7, 0, 10, 5, 5, 9, 10]\n",
      "Classification report:\n",
      "              precision    recall  f1-score   support\n",
      "\n",
      "           0       0.90      1.00      0.95         9\n",
      "           1       1.00      1.00      1.00         3\n",
      "           2       1.00      1.00      1.00         2\n",
      "           3       1.00      1.00      1.00         3\n",
      "           4       1.00      1.00      1.00         5\n",
      "           5       1.00      1.00      1.00         7\n",
      "           6       1.00      1.00      1.00         5\n",
      "           7       1.00      1.00      1.00        16\n",
      "           8       1.00      1.00      1.00         3\n",
      "           9       1.00      0.75      0.86         4\n",
      "          10       1.00      1.00      1.00        10\n",
      "\n",
      "    accuracy                           0.99        67\n",
      "   macro avg       0.99      0.98      0.98        67\n",
      "weighted avg       0.99      0.99      0.98        67\n",
      "\n",
      "\n",
      "Confusion matrix:\n",
      "[[ 9  0  0  0  0  0  0  0  0  0  0]\n",
      " [ 0  3  0  0  0  0  0  0  0  0  0]\n",
      " [ 0  0  2  0  0  0  0  0  0  0  0]\n",
      " [ 0  0  0  3  0  0  0  0  0  0  0]\n",
      " [ 0  0  0  0  5  0  0  0  0  0  0]\n",
      " [ 0  0  0  0  0  7  0  0  0  0  0]\n",
      " [ 0  0  0  0  0  0  5  0  0  0  0]\n",
      " [ 0  0  0  0  0  0  0 16  0  0  0]\n",
      " [ 0  0  0  0  0  0  0  0  3  0  0]\n",
      " [ 1  0  0  0  0  0  0  0  0  3  0]\n",
      " [ 0  0  0  0  0  0  0  0  0  0 10]]\n"
     ]
    }
   ],
   "source": [
    "expected = []\n",
    "predicted = []\n",
    "# YOUR CODE HERE\n",
    "index_test = permutation[n_training_data:]\n",
    "pred_test = clf.predict(all_data[index_test])\n",
    "target_test = all_target[index_test]\n",
    "\n",
    "print(index_test)\n",
    "expected.extend(target_test)\n",
    "predicted.extend(pred_test)\n",
    "\n",
    "print(expected)\n",
    "print(predicted)\n",
    "\n",
    "\n",
    "evaluate(expected, predicted)"
   ]
  },
  {
   "cell_type": "markdown",
   "metadata": {},
   "source": [
    "## 4. Evaluate on the test data"
   ]
  },
  {
   "cell_type": "code",
   "execution_count": 84,
   "metadata": {},
   "outputs": [
    {
     "name": "stdout",
     "output_type": "stream",
     "text": [
      "[ 20 145  45 113  69 205 100 221 109  74   8 135 159  30 105 131 171  67\n",
      "  64 167 117  66 199  75 149 166 176  15  49  79 204  92   4 206 151   3\n",
      " 216  70 184  78  29 157 192 200 214 180 195 169  38  58 141 152  87 101\n",
      " 187 128  14  13 172 103 129  16 219  90  96 186 213]\n",
      "[0, 7, 1, 6, 4, 10, 5, 10, 6, 4, 0, 7, 7, 1, 6, 7, 7, 3, 3, 7, 6, 3, 10, 4, 7, 7, 8, 0, 2, 5, 10, 5, 0, 10, 7, 0, 10, 4, 8, 4, 0, 7, 9, 10, 10, 8, 9, 7, 1, 2, 7, 7, 5, 5, 9, 7, 0, 0, 7, 6, 7, 0, 10, 5, 5, 9, 10]\n",
      "[0, 7, 1, 6, 4, 10, 5, 10, 6, 4, 0, 7, 7, 1, 6, 7, 7, 3, 3, 7, 6, 3, 10, 4, 7, 7, 8, 0, 2, 5, 10, 5, 0, 10, 7, 0, 10, 4, 8, 4, 0, 7, 9, 10, 10, 8, 0, 7, 1, 2, 7, 7, 5, 5, 9, 7, 0, 0, 7, 6, 7, 0, 10, 5, 5, 9, 10]\n",
      "Classification report:\n",
      "              precision    recall  f1-score   support\n",
      "\n",
      "           0       0.90      1.00      0.95         9\n",
      "           1       1.00      1.00      1.00         3\n",
      "           2       1.00      1.00      1.00         2\n",
      "           3       1.00      1.00      1.00         3\n",
      "           4       1.00      1.00      1.00         5\n",
      "           5       1.00      1.00      1.00         7\n",
      "           6       1.00      1.00      1.00         5\n",
      "           7       1.00      1.00      1.00        16\n",
      "           8       1.00      1.00      1.00         3\n",
      "           9       1.00      0.75      0.86         4\n",
      "          10       1.00      1.00      1.00        10\n",
      "\n",
      "    accuracy                           0.99        67\n",
      "   macro avg       0.99      0.98      0.98        67\n",
      "weighted avg       0.99      0.99      0.98        67\n",
      "\n",
      "\n",
      "Confusion matrix:\n",
      "[[ 9  0  0  0  0  0  0  0  0  0  0]\n",
      " [ 0  3  0  0  0  0  0  0  0  0  0]\n",
      " [ 0  0  2  0  0  0  0  0  0  0  0]\n",
      " [ 0  0  0  3  0  0  0  0  0  0  0]\n",
      " [ 0  0  0  0  5  0  0  0  0  0  0]\n",
      " [ 0  0  0  0  0  7  0  0  0  0  0]\n",
      " [ 0  0  0  0  0  0  5  0  0  0  0]\n",
      " [ 0  0  0  0  0  0  0 16  0  0  0]\n",
      " [ 0  0  0  0  0  0  0  0  3  0  0]\n",
      " [ 1  0  0  0  0  0  0  0  0  3  0]\n",
      " [ 0  0  0  0  0  0  0  0  0  0 10]]\n"
     ]
    }
   ],
   "source": [
    "expected = []\n",
    "predicted = []\n",
    "# YOUR CODE HERE\n",
    "\n",
    "index_test = permutation[n_training_data:]\n",
    "pred_test = clf.predict(all_data[index_test])\n",
    "target_test = all_target[index_test]\n",
    "\n",
    "print(index_test)\n",
    "expected.extend(target_test)\n",
    "predicted.extend(pred_test)\n",
    "\n",
    "print(expected)\n",
    "print(predicted)\n",
    "\n",
    "evaluate(expected, predicted)"
   ]
  },
  {
   "cell_type": "markdown",
   "metadata": {},
   "source": [
    "## 5. Deploy to the real system\n",
    "\n",
    "We can simple use `pickle` module to serialize the trained classifier."
   ]
  },
  {
   "cell_type": "code",
   "execution_count": 85,
   "metadata": {},
   "outputs": [],
   "source": [
    "import pickle\n",
    "ROBOT_POSE_CLF = 'robot_pose.pkl'\n",
    "pickle.dump(clf, open(ROBOT_POSE_CLF, 'wb')) #hier muss 'wb' stehen statt nur 'w' , b für binary"
   ]
  },
  {
   "cell_type": "markdown",
   "metadata": {},
   "source": [
    "Then, in the application we can load the trained classifier again."
   ]
  },
  {
   "cell_type": "code",
   "execution_count": 88,
   "metadata": {},
   "outputs": [
    {
     "data": {
      "text/plain": [
       "(array([10]), 10)"
      ]
     },
     "execution_count": 88,
     "metadata": {},
     "output_type": "execute_result"
    }
   ],
   "source": [
    "clf2 = pickle.load(open(ROBOT_POSE_CLF,'rb')) #hier 'rb' statt gar nichts\n",
    "clf2.predict([all_data[-1]]), all_target[-1] # hier wieder eckige klammern um all_data[-1] da es liste von arrays sein muss und nicht nur ein element"
   ]
  },
  {
   "cell_type": "code",
   "execution_count": null,
   "metadata": {
    "collapsed": true
   },
   "outputs": [],
   "source": []
  }
 ],
 "metadata": {
  "kernelspec": {
   "display_name": "Python 3",
   "language": "python",
   "name": "python3"
  },
  "language_info": {
   "codemirror_mode": {
    "name": "ipython",
    "version": 3
   },
   "file_extension": ".py",
   "mimetype": "text/x-python",
   "name": "python",
   "nbconvert_exporter": "python",
   "pygments_lexer": "ipython3",
   "version": "3.8.5"
  },
  "widgets": {
   "state": {},
   "version": "1.0.0"
  }
 },
 "nbformat": 4,
 "nbformat_minor": 1
}
